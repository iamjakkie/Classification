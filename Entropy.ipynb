{
 "cells": [
  {
   "cell_type": "markdown",
   "metadata": {},
   "source": [
    "# Entropy\n",
    "\n",
    "Entropy could be used with probability to denote the gain of information.\n",
    "\n",
    "The more homogenious the set is - the lower is the level of entropy.\n",
    "The lower the entropy - the higher the knowledge gain.\n",
    "\n",
    "If we have a dataset with two classes evenly distributed we get the low knowledge and high entropy.\n"
   ]
  },
  {
   "cell_type": "markdown",
   "metadata": {},
   "source": [
    "$$ \n",
    "H(x) = -\\sum_{i=1}^n p(x_i) \\log_2 p(x_i)\n",
    "$$"
   ]
  },
  {
   "cell_type": "code",
   "execution_count": 65,
   "metadata": {},
   "outputs": [],
   "source": [
    "import pandas as pd\n",
    "import matplotlib.pyplot as plt\n",
    "import math"
   ]
  },
  {
   "cell_type": "code",
   "execution_count": 5,
   "metadata": {},
   "outputs": [
    {
     "data": {
      "text/html": [
       "<div>\n",
       "<style scoped>\n",
       "    .dataframe tbody tr th:only-of-type {\n",
       "        vertical-align: middle;\n",
       "    }\n",
       "\n",
       "    .dataframe tbody tr th {\n",
       "        vertical-align: top;\n",
       "    }\n",
       "\n",
       "    .dataframe thead th {\n",
       "        text-align: right;\n",
       "    }\n",
       "</style>\n",
       "<table border=\"1\" class=\"dataframe\">\n",
       "  <thead>\n",
       "    <tr style=\"text-align: right;\">\n",
       "      <th></th>\n",
       "      <th>Species</th>\n",
       "      <th>Color</th>\n",
       "      <th>Length (mm)</th>\n",
       "    </tr>\n",
       "  </thead>\n",
       "  <tbody>\n",
       "    <tr>\n",
       "      <th>0</th>\n",
       "      <td>Mobug</td>\n",
       "      <td>Brown</td>\n",
       "      <td>11.6</td>\n",
       "    </tr>\n",
       "    <tr>\n",
       "      <th>1</th>\n",
       "      <td>Mobug</td>\n",
       "      <td>Blue</td>\n",
       "      <td>16.3</td>\n",
       "    </tr>\n",
       "    <tr>\n",
       "      <th>2</th>\n",
       "      <td>Lobug</td>\n",
       "      <td>Blue</td>\n",
       "      <td>15.1</td>\n",
       "    </tr>\n",
       "    <tr>\n",
       "      <th>3</th>\n",
       "      <td>Lobug</td>\n",
       "      <td>Green</td>\n",
       "      <td>23.7</td>\n",
       "    </tr>\n",
       "    <tr>\n",
       "      <th>4</th>\n",
       "      <td>Lobug</td>\n",
       "      <td>Blue</td>\n",
       "      <td>18.4</td>\n",
       "    </tr>\n",
       "  </tbody>\n",
       "</table>\n",
       "</div>"
      ],
      "text/plain": [
       "  Species  Color  Length (mm)\n",
       "0   Mobug  Brown         11.6\n",
       "1   Mobug   Blue         16.3\n",
       "2   Lobug   Blue         15.1\n",
       "3   Lobug  Green         23.7\n",
       "4   Lobug   Blue         18.4"
      ]
     },
     "execution_count": 5,
     "metadata": {},
     "output_type": "execute_result"
    }
   ],
   "source": [
    "bugs = pd.read_csv('data/ml-bugs.csv')\n",
    "bugs.head()"
   ]
  },
  {
   "cell_type": "markdown",
   "metadata": {},
   "source": [
    "## Information gain\n",
    "\n",
    "The goal is to split the data getting the highest information gain - lower entropy."
   ]
  },
  {
   "cell_type": "markdown",
   "metadata": {},
   "source": [
    "$$ \n",
    "Information Gain = Entropy(Parent) - [\\frac{m}{m + n}Entropy(Child_1) + \\frac{m}{m + n}Entropy(Child_2)]\n",
    "$$"
   ]
  },
  {
   "cell_type": "markdown",
   "metadata": {},
   "source": [
    "## Entropy"
   ]
  },
  {
   "cell_type": "code",
   "execution_count": 47,
   "metadata": {},
   "outputs": [
    {
     "data": {
      "image/png": "[encoded data removed]",
      "text/plain": [
       "<Figure size 432x288 with 1 Axes>"
      ]
     },
     "metadata": {
      "needs_background": "light"
     },
     "output_type": "display_data"
    }
   ],
   "source": [
    "groups = bugs.groupby('Species')\n",
    "\n",
    "# Plot\n",
    "fig, ax = plt.subplots()\n",
    "ax.margins(0.05) # Optional, just adds 5% padding to the autoscaling\n",
    "for name, group in groups:\n",
    "    ax.plot(group.index, group['Length (mm)'], marker='o', linestyle='', ms=12, label=name)\n",
    "ax.legend()\n",
    "\n",
    "plt.show()"
   ]
  },
  {
   "cell_type": "code",
   "execution_count": 82,
   "metadata": {},
   "outputs": [
    {
     "name": "stdout",
     "output_type": "stream",
     "text": [
      "No of mobugs: 10, no of lobugs: 14\n",
      "Parent entropy: 0.6791932659915256\n"
     ]
    }
   ],
   "source": [
    "#Parent entropy:\n",
    "mobugs = bugs.groupby('Species').count().reset_index().iloc[1][1]\n",
    "lobugs = bugs.groupby('Species').count().reset_index().iloc[0][1]\n",
    "all_bugs = mobugs+lobugs\n",
    "print('No of mobugs: {}, no of lobugs: {}'.format(mobugs, lobugs))\n",
    "\n",
    "entropy = -(lobugs/all_bugs)*math.log(lobugs/all_bugs) - (mobugs/all_bugs)*math.log(mobugs/all_bugs)\n",
    "print('Parent entropy: {}'.format(entropy))"
   ]
  },
  {
   "cell_type": "code",
   "execution_count": null,
   "metadata": {},
   "outputs": [],
   "source": []
  },
  {
   "cell_type": "markdown",
   "metadata": {},
   "source": [
    "## Entropy for Species\n"
   ]
  },
  {
   "cell_type": "code",
   "execution_count": 66,
   "metadata": {},
   "outputs": [
    {
     "data": {
      "text/plain": [
       "0.6791932659915256"
      ]
     },
     "execution_count": 66,
     "metadata": {},
     "output_type": "execute_result"
    }
   ],
   "source": [
    "number_of_records = bugs.shape[0]\n",
    "number_of_lobug = bugs[bugs['Species']=='Lobug'].count().reset_index(name=\"count\").loc[0][1]\n",
    "number_of_mobug = bugs[bugs['Species']=='Mobug'].count().reset_index(name=\"count\").loc[0][1]\n",
    "\n",
    "entropy = -(number_of_lobug/number_of_records)*math.log(number_of_lobug/number_of_records) - (number_of_mobug/number_of_records)*math.log(number_of_mobug/number_of_records)\n",
    "\n",
    "entropy"
   ]
  },
  {
   "cell_type": "code",
   "execution_count": 67,
   "metadata": {},
   "outputs": [
    {
     "data": {
      "image/png": "[encoded data removed]",
      "text/plain": [
       "<Figure size 432x288 with 1 Axes>"
      ]
     },
     "metadata": {
      "needs_background": "light"
     },
     "output_type": "display_data"
    }
   ],
   "source": [
    "groups = bugs.groupby('Color')\n",
    "\n",
    "# Plot\n",
    "fig, ax = plt.subplots()\n",
    "ax.margins(0.05) # Optional, just adds 5% padding to the autoscaling\n",
    "for name, group in groups:\n",
    "    ax.plot(group.index, group['Length (mm)'], marker='o', linestyle='', ms=12, label=name)\n",
    "ax.legend()\n",
    "\n",
    "plt.show()"
   ]
  },
  {
   "cell_type": "markdown",
   "metadata": {},
   "source": [
    "## Entropy for Colors"
   ]
  },
  {
   "cell_type": "code",
   "execution_count": 68,
   "metadata": {},
   "outputs": [
    {
     "data": {
      "text/plain": [
       "0.3451481346213944"
      ]
     },
     "execution_count": 68,
     "metadata": {},
     "output_type": "execute_result"
    }
   ],
   "source": [
    "number_of_records = bugs.shape[0]\n",
    "number_of_blue = bugs[bugs['Color']=='Blue'].count().reset_index(name=\"count\").loc[0][1]\n",
    "number_of_brown = bugs[bugs['Color']=='Brown'].count().reset_index(name=\"count\").loc[0][1]\n",
    "number_of_green = bugs[bugs['Color']=='Green'].count().reset_index(name=\"count\").loc[0][1]\n",
    "\n",
    "entropy = -(number_of_blue/number_of_records)*math.log(number_of_blue/number_of_records) - (number_of_brown/number_of_records)*math.log(number_of_brown/number_of_records) - - (number_of_green/number_of_records)*math.log(number_of_green/number_of_records)\n",
    "\n",
    "entropy"
   ]
  },
  {
   "cell_type": "code",
   "execution_count": 44,
   "metadata": {},
   "outputs": [
    {
     "data": {
      "image/png": "[encoded data removed]",
      "text/plain": [
       "<Figure size 432x288 with 1 Axes>"
      ]
     },
     "metadata": {
      "needs_background": "light"
     },
     "output_type": "display_data"
    }
   ],
   "source": [
    "groups = bugs.groupby('Color')\n",
    "# Plot\n",
    "fig, ax = plt.subplots()\n",
    "for name, group in groups:\n",
    "    ax.plot(group[group['Species']=='Mobug'].index, group[group['Species']=='Mobug']['Length (mm)'], marker='o', linestyle='', ms=12, label=name)\n",
    "    ax.plot(group[group['Species']=='Lobug'].index, group[group['Species']=='Lobug']['Length (mm)'], marker='x', linestyle='', ms=12)\n",
    "ax.legend()\n",
    "\n",
    "plt.show()"
   ]
  },
  {
   "cell_type": "code",
   "execution_count": 26,
   "metadata": {},
   "outputs": [
    {
     "name": "stdout",
     "output_type": "stream",
     "text": [
      "('Blue',    Species Color  Length (mm)\n",
      "2    Lobug  Blue         15.1\n",
      "4    Lobug  Blue         18.4\n",
      "8    Lobug  Blue         22.9\n",
      "9    Lobug  Blue         21.0\n",
      "10   Lobug  Blue         20.5\n",
      "13   Lobug  Blue         14.5)\n",
      "('Brown',    Species  Color  Length (mm)\n",
      "5    Lobug  Brown         17.1\n",
      "21   Lobug  Brown         14.1)\n",
      "('Green',    Species  Color  Length (mm)\n",
      "3    Lobug  Green         23.7\n",
      "7    Lobug  Green         18.6\n",
      "14   Lobug  Green         24.8\n",
      "16   Lobug  Green         17.9\n",
      "17   Lobug  Green         22.7\n",
      "22   Lobug  Green         18.8)\n"
     ]
    }
   ],
   "source": [
    "for group in groups_lobug:\n",
    "    print(group)"
   ]
  },
  {
   "cell_type": "code",
   "execution_count": 36,
   "metadata": {},
   "outputs": [
    {
     "name": "stdout",
     "output_type": "stream",
     "text": [
      "<class 'pandas.core.frame.DataFrame'>\n",
      "<class 'pandas.core.frame.DataFrame'>\n",
      "<class 'pandas.core.frame.DataFrame'>\n"
     ]
    }
   ],
   "source": [
    "for group in groups:\n",
    "    print(type(group[1]))"
   ]
  },
  {
   "cell_type": "code",
   "execution_count": 39,
   "metadata": {},
   "outputs": [
    {
     "data": {
      "text/plain": [
       "1     16.3\n",
       "19    14.6\n",
       "20    19.2\n",
       "23    13.1\n",
       "Name: Length (mm), dtype: float64"
      ]
     },
     "execution_count": 39,
     "metadata": {},
     "output_type": "execute_result"
    }
   ],
   "source": [
    "group[group['Species']=='Mobug']['Length (mm)']"
   ]
  },
  {
   "cell_type": "code",
   "execution_count": 38,
   "metadata": {},
   "outputs": [
    {
     "data": {
      "text/plain": [
       "1     16.3\n",
       "2     15.1\n",
       "4     18.4\n",
       "8     22.9\n",
       "9     21.0\n",
       "10    20.5\n",
       "13    14.5\n",
       "19    14.6\n",
       "20    19.2\n",
       "23    13.1\n",
       "Name: Length (mm), dtype: float64"
      ]
     },
     "execution_count": 38,
     "metadata": {},
     "output_type": "execute_result"
    }
   ],
   "source": [
    "group['Length (mm)']"
   ]
  },
  {
   "cell_type": "code",
   "execution_count": null,
   "metadata": {},
   "outputs": [],
   "source": []
  }
 ],
 "metadata": {
  "kernelspec": {
   "display_name": "Python 3",
   "language": "python",
   "name": "python3"
  },
  "language_info": {
   "codemirror_mode": {
    "name": "ipython",
    "version": 3
   },
   "file_extension": ".py",
   "mimetype": "text/x-python",
   "name": "python",
   "nbconvert_exporter": "python",
   "pygments_lexer": "ipython3",
   "version": "3.8.3"
  }
 },
 "nbformat": 4,
 "nbformat_minor": 4
}
